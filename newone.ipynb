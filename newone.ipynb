{
 "cells": [
  {
   "cell_type": "code",
   "execution_count": 6,
   "id": "da3d37a0-ac36-43a1-bbca-ac988c8b22f4",
   "metadata": {},
   "outputs": [],
   "source": [
    "import os\n",
    "import tensorflow as tf\n",
    "import streamlit\n",
    "import numpy as np\n",
    "from tensorflow.keras import layers\n",
    "from tensorflow.keras.preprocessing.image  import load_img,ImageDataGenerator\n",
    "from tensorflow.keras.models import Sequential,load_model\n",
    "from tensorflow.keras.layers import Conv2D, MaxPooling2D,Dense,Dropout,Flatten,Input,Embedding\n",
    "import matplotlib.pyplot as plt"
   ]
  },
  {
   "cell_type": "code",
   "execution_count": 2,
   "id": "20f836e9-31cd-43ef-911b-91bea32d3e31",
   "metadata": {},
   "outputs": [
    {
     "name": "stdout",
     "output_type": "stream",
     "text": [
      "Catharanthus(periwinkle) Folder has 50Images\n",
      "Hibiscus rosa-sinensis(Hibiscus) Folder has 50Images\n",
      "Rosa Rubiginosa(Garden rose) Folder has 50Images\n",
      "Turnera ulmifolia(yellow alder) Folder has 50Images\n"
     ]
    }
   ],
   "source": [
    "dirs = os.listdir('Images/')\n",
    "for dir in dirs:\n",
    "    files=list(os.listdir('Images/'+dir))\n",
    "    print(dir+' Folder has '+str(len(files))+'Images')"
   ]
  },
  {
   "cell_type": "code",
   "execution_count": 3,
   "id": "1fade4f0-742c-4f12-882f-a84b10f76056",
   "metadata": {},
   "outputs": [],
   "source": [
    "base_dir = 'Images/'\n",
    "img_size = 180\n",
    "batch = 32"
   ]
  },
  {
   "cell_type": "code",
   "execution_count": 4,
   "id": "48f34d2b-2e79-423a-ad9c-7174e9bb2d12",
   "metadata": {},
   "outputs": [
    {
     "name": "stdout",
     "output_type": "stream",
     "text": [
      "Found 200 files belonging to 4 classes.\n",
      "Using 160 files for training.\n",
      "Found 200 files belonging to 4 classes.\n",
      "Using 40 files for validation.\n"
     ]
    }
   ],
   "source": [
    "train_ds = tf.keras.utils.image_dataset_from_directory( base_dir,\n",
    "                                                       seed = 123,\n",
    "                                                       validation_split=0.2,\n",
    "                                                       subset = 'training',\n",
    "                                                       batch_size=batch,\n",
    "                                                       image_size=(img_size,img_size))\n",
    "\n",
    "val_ds = tf.keras.utils.image_dataset_from_directory( base_dir,\n",
    "                                                       seed = 123,\n",
    "                                                       validation_split=0.2,\n",
    "                                                       subset = 'validation',\n",
    "                                                       batch_size=batch,\n",
    "                                                       image_size=(img_size,img_size))"
   ]
  },
  {
   "cell_type": "code",
   "execution_count": 5,
   "id": "dc89ddf6-9119-4813-8d11-2293c6486c00",
   "metadata": {},
   "outputs": [
    {
     "data": {
      "text/plain": [
       "['Catharanthus(periwinkle)',\n",
       " 'Hibiscus rosa-sinensis(Hibiscus)',\n",
       " 'Rosa Rubiginosa(Garden rose)',\n",
       " 'Turnera ulmifolia(yellow alder)']"
      ]
     },
     "execution_count": 5,
     "metadata": {},
     "output_type": "execute_result"
    }
   ],
   "source": [
    "flower_names = train_ds.class_names\n",
    "flower_names"
   ]
  },
  {
   "cell_type": "code",
   "execution_count": 7,
   "id": "c19f340d-ea17-4205-aaea-542a0f5382ff",
   "metadata": {},
   "outputs": [],
   "source": [
    "i = 0\n",
    "plt.figure(figsize=(10,10))\n",
    "\n",
    "for images, labels in train_ds.take(1):\n",
    "    for i in range(9):\n",
    "        plt.subplot(3,3, i+1)\n",
    "        plt.imshow(images[i].numpy().astype('uint8'))\n",
    "        plt.title(flower_names[labels[i]])\n",
    "        plt.axis('off')"
   ]
  },
  {
   "cell_type": "code",
   "execution_count": 11,
   "id": "ad159f1e-55ea-42a7-a84b-e1b096ed3021",
   "metadata": {},
   "outputs": [],
   "source": [
    "data_augmentation = Sequential([\n",
    "    layers.RandomFlip(\"horizontal\"),\n",
    "    layers.RandomRotation(0.1),\n",
    "    layers.RandomZoom(0.1)\n",
    "])"
   ]
  },
  {
   "cell_type": "code",
   "execution_count": 12,
   "id": "307d89ec-2fa9-4b66-92bc-8cee64a549cb",
   "metadata": {},
   "outputs": [],
   "source": [
    "i = 0\n",
    "plt.figure(figsize=(10,10))\n",
    "\n",
    "for images, labels in train_ds.take(1):\n",
    "    for i in range(9):\n",
    "        images = data_augmentation(images)\n",
    "        plt.subplot(3,3, i+1)\n",
    "        plt.imshow(images[0].numpy().astype('uint8'))\n",
    "        plt.axis('off')"
   ]
  },
  {
   "cell_type": "code",
   "execution_count": 13,
   "id": "2939d1cb-561f-4e54-8d6d-15e91f2774a6",
   "metadata": {},
   "outputs": [
    {
     "name": "stderr",
     "output_type": "stream",
     "text": [
      "C:\\Users\\mahes\\AppData\\Roaming\\Python\\Python312\\site-packages\\keras\\src\\layers\\convolutional\\base_conv.py:107: UserWarning: Do not pass an `input_shape`/`input_dim` argument to a layer. When using Sequential models, prefer using an `Input(shape)` object as the first layer in the model instead.\n",
      "  super().__init__(activity_regularizer=activity_regularizer, **kwargs)\n"
     ]
    }
   ],
   "source": [
    "model = Sequential([\n",
    "    data_augmentation,\n",
    "    layers.Rescaling(1./255),\n",
    "    Conv2D(16, 3, padding='same', activation='relu',input_shape=(180,180,3)),\n",
    "    MaxPooling2D(),\n",
    "    Conv2D(32, 3, padding='same', activation='relu'),\n",
    "    MaxPooling2D(),\n",
    "    Conv2D(64, 3, padding='same', activation='relu'),\n",
    "    MaxPooling2D(),\n",
    "    Dropout(0.2),\n",
    "    Flatten(),\n",
    "    Dense(128, activation='relu'),\n",
    "    Dense(5)\n",
    "])"
   ]
  },
  {
   "cell_type": "code",
   "execution_count": null,
   "id": "454236f4-33f1-4c9b-bcd4-9bcd5257c35f",
   "metadata": {},
   "outputs": [],
   "source": []
  }
 ],
 "metadata": {
  "kernelspec": {
   "display_name": "Python 3 (ipykernel)",
   "language": "python",
   "name": "python3"
  },
  "language_info": {
   "codemirror_mode": {
    "name": "ipython",
    "version": 3
   },
   "file_extension": ".py",
   "mimetype": "text/x-python",
   "name": "python",
   "nbconvert_exporter": "python",
   "pygments_lexer": "ipython3",
   "version": "3.12.0"
  }
 },
 "nbformat": 4,
 "nbformat_minor": 5
}
